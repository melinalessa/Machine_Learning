{
  "nbformat": 4,
  "nbformat_minor": 0,
  "metadata": {
    "colab": {
      "provenance": [],
      "authorship_tag": "ABX9TyPsPaqYAHt+KICQPIqlJAfd",
      "include_colab_link": true
    },
    "kernelspec": {
      "name": "python3",
      "display_name": "Python 3"
    },
    "language_info": {
      "name": "python"
    }
  },
  "cells": [
    {
      "cell_type": "markdown",
      "metadata": {
        "id": "view-in-github",
        "colab_type": "text"
      },
      "source": [
        "<a href=\"https://colab.research.google.com/github/melinalessa/Machine_Learning/blob/main/diabetes_normalizacao_padronizacao.ipynb\" target=\"_parent\"><img src=\"https://colab.research.google.com/assets/colab-badge.svg\" alt=\"Open In Colab\"/></a>"
      ]
    },
    {
      "cell_type": "markdown",
      "source": [
        "Aplique a normalização e padronização dos dados para gerar o\n",
        "modelo de regressão linear no dataset load_diabets(). Ao final\n",
        "calcule o score (R^2) com a normalização e o score (R^2) do modelo\n",
        "com a padronização."
      ],
      "metadata": {
        "id": "LsDOW6-_b94a"
      }
    },
    {
      "cell_type": "code",
      "execution_count": 2,
      "metadata": {
        "id": "MORCozSSb7GH"
      },
      "outputs": [],
      "source": [
        "from sklearn.datasets import load_diabetes\n",
        "from sklearn.model_selection import train_test_split\n",
        "from sklearn.linear_model import LinearRegression\n",
        "from sklearn.preprocessing import StandardScaler, MinMaxScaler"
      ]
    },
    {
      "cell_type": "code",
      "source": [
        "# Carregando o dataset de diabetes\n",
        "data = load_diabetes()\n",
        "X, y = data.data, data.target"
      ],
      "metadata": {
        "id": "O_gKKiJocdyg"
      },
      "execution_count": 3,
      "outputs": []
    },
    {
      "cell_type": "code",
      "source": [
        "# Dividindo os dados em conjuntos de treino e teste (80% treino, 20% teste)\n",
        "X_train, X_test, y_train, y_test = train_test_split(X, y, test_size=0.2, random_state=42)"
      ],
      "metadata": {
        "id": "-JOINwh6cpn0"
      },
      "execution_count": 4,
      "outputs": []
    },
    {
      "cell_type": "code",
      "source": [
        "# Inicializando os objetos para padronização e normalização\n",
        "scaler_standard = StandardScaler()\n",
        "scaler_minmax = MinMaxScaler()"
      ],
      "metadata": {
        "id": "o1OwEYkfcsst"
      },
      "execution_count": 5,
      "outputs": []
    },
    {
      "cell_type": "code",
      "source": [
        "# Padronização nos dados de treino e teste\n",
        "X_train_standard = scaler_standard.fit_transform(X_train)\n",
        "X_test_standard = scaler_standard.transform(X_test)"
      ],
      "metadata": {
        "id": "2rNZmG3Mcv1N"
      },
      "execution_count": 6,
      "outputs": []
    },
    {
      "cell_type": "code",
      "source": [
        "# Normalização nos dados de treino e teste\n",
        "X_train_minmax = scaler_minmax.fit_transform(X_train)\n",
        "X_test_minmax = scaler_minmax.transform(X_test)"
      ],
      "metadata": {
        "id": "MkV4tPcyczvy"
      },
      "execution_count": 7,
      "outputs": []
    },
    {
      "cell_type": "code",
      "source": [
        "# Inicializando modelos de Regressão Linear\n",
        "model_standard = LinearRegression()\n",
        "model_minmax = LinearRegression()"
      ],
      "metadata": {
        "id": "EqNO1xc_c3A7"
      },
      "execution_count": 8,
      "outputs": []
    },
    {
      "cell_type": "code",
      "source": [
        "# Treinando os modelos com dados padronizados e normalizados\n",
        "model_standard.fit(X_train_standard, y_train)\n",
        "model_minmax.fit(X_train_minmax, y_train)"
      ],
      "metadata": {
        "colab": {
          "base_uri": "https://localhost:8080/",
          "height": 75
        },
        "id": "O7jkDnYlc29R",
        "outputId": "5a1d7ce6-ce80-40a7-9532-56a9287b1f28"
      },
      "execution_count": 9,
      "outputs": [
        {
          "output_type": "execute_result",
          "data": {
            "text/plain": [
              "LinearRegression()"
            ],
            "text/html": [
              "<style>#sk-container-id-1 {color: black;background-color: white;}#sk-container-id-1 pre{padding: 0;}#sk-container-id-1 div.sk-toggleable {background-color: white;}#sk-container-id-1 label.sk-toggleable__label {cursor: pointer;display: block;width: 100%;margin-bottom: 0;padding: 0.3em;box-sizing: border-box;text-align: center;}#sk-container-id-1 label.sk-toggleable__label-arrow:before {content: \"▸\";float: left;margin-right: 0.25em;color: #696969;}#sk-container-id-1 label.sk-toggleable__label-arrow:hover:before {color: black;}#sk-container-id-1 div.sk-estimator:hover label.sk-toggleable__label-arrow:before {color: black;}#sk-container-id-1 div.sk-toggleable__content {max-height: 0;max-width: 0;overflow: hidden;text-align: left;background-color: #f0f8ff;}#sk-container-id-1 div.sk-toggleable__content pre {margin: 0.2em;color: black;border-radius: 0.25em;background-color: #f0f8ff;}#sk-container-id-1 input.sk-toggleable__control:checked~div.sk-toggleable__content {max-height: 200px;max-width: 100%;overflow: auto;}#sk-container-id-1 input.sk-toggleable__control:checked~label.sk-toggleable__label-arrow:before {content: \"▾\";}#sk-container-id-1 div.sk-estimator input.sk-toggleable__control:checked~label.sk-toggleable__label {background-color: #d4ebff;}#sk-container-id-1 div.sk-label input.sk-toggleable__control:checked~label.sk-toggleable__label {background-color: #d4ebff;}#sk-container-id-1 input.sk-hidden--visually {border: 0;clip: rect(1px 1px 1px 1px);clip: rect(1px, 1px, 1px, 1px);height: 1px;margin: -1px;overflow: hidden;padding: 0;position: absolute;width: 1px;}#sk-container-id-1 div.sk-estimator {font-family: monospace;background-color: #f0f8ff;border: 1px dotted black;border-radius: 0.25em;box-sizing: border-box;margin-bottom: 0.5em;}#sk-container-id-1 div.sk-estimator:hover {background-color: #d4ebff;}#sk-container-id-1 div.sk-parallel-item::after {content: \"\";width: 100%;border-bottom: 1px solid gray;flex-grow: 1;}#sk-container-id-1 div.sk-label:hover label.sk-toggleable__label {background-color: #d4ebff;}#sk-container-id-1 div.sk-serial::before {content: \"\";position: absolute;border-left: 1px solid gray;box-sizing: border-box;top: 0;bottom: 0;left: 50%;z-index: 0;}#sk-container-id-1 div.sk-serial {display: flex;flex-direction: column;align-items: center;background-color: white;padding-right: 0.2em;padding-left: 0.2em;position: relative;}#sk-container-id-1 div.sk-item {position: relative;z-index: 1;}#sk-container-id-1 div.sk-parallel {display: flex;align-items: stretch;justify-content: center;background-color: white;position: relative;}#sk-container-id-1 div.sk-item::before, #sk-container-id-1 div.sk-parallel-item::before {content: \"\";position: absolute;border-left: 1px solid gray;box-sizing: border-box;top: 0;bottom: 0;left: 50%;z-index: -1;}#sk-container-id-1 div.sk-parallel-item {display: flex;flex-direction: column;z-index: 1;position: relative;background-color: white;}#sk-container-id-1 div.sk-parallel-item:first-child::after {align-self: flex-end;width: 50%;}#sk-container-id-1 div.sk-parallel-item:last-child::after {align-self: flex-start;width: 50%;}#sk-container-id-1 div.sk-parallel-item:only-child::after {width: 0;}#sk-container-id-1 div.sk-dashed-wrapped {border: 1px dashed gray;margin: 0 0.4em 0.5em 0.4em;box-sizing: border-box;padding-bottom: 0.4em;background-color: white;}#sk-container-id-1 div.sk-label label {font-family: monospace;font-weight: bold;display: inline-block;line-height: 1.2em;}#sk-container-id-1 div.sk-label-container {text-align: center;}#sk-container-id-1 div.sk-container {/* jupyter's `normalize.less` sets `[hidden] { display: none; }` but bootstrap.min.css set `[hidden] { display: none !important; }` so we also need the `!important` here to be able to override the default hidden behavior on the sphinx rendered scikit-learn.org. See: https://github.com/scikit-learn/scikit-learn/issues/21755 */display: inline-block !important;position: relative;}#sk-container-id-1 div.sk-text-repr-fallback {display: none;}</style><div id=\"sk-container-id-1\" class=\"sk-top-container\"><div class=\"sk-text-repr-fallback\"><pre>LinearRegression()</pre><b>In a Jupyter environment, please rerun this cell to show the HTML representation or trust the notebook. <br />On GitHub, the HTML representation is unable to render, please try loading this page with nbviewer.org.</b></div><div class=\"sk-container\" hidden><div class=\"sk-item\"><div class=\"sk-estimator sk-toggleable\"><input class=\"sk-toggleable__control sk-hidden--visually\" id=\"sk-estimator-id-1\" type=\"checkbox\" checked><label for=\"sk-estimator-id-1\" class=\"sk-toggleable__label sk-toggleable__label-arrow\">LinearRegression</label><div class=\"sk-toggleable__content\"><pre>LinearRegression()</pre></div></div></div></div></div>"
            ]
          },
          "metadata": {},
          "execution_count": 9
        }
      ]
    },
    {
      "cell_type": "code",
      "source": [
        "# Avaliando o desempenho nos dados de teste\n",
        "score_standard = model_standard.score(X_test_standard, y_test)\n",
        "score_minmax = model_minmax.score(X_test_minmax, y_test)"
      ],
      "metadata": {
        "id": "whfpk7a2c97m"
      },
      "execution_count": 10,
      "outputs": []
    },
    {
      "cell_type": "markdown",
      "source": [
        "Padronização: redimensiona os valores dos recursos para que tenham\n",
        "distribuição normal com valor médio 0 e variância igual a 1:\n",
        "\n",
        "![images.png](data:image/png;base64,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)"
      ],
      "metadata": {
        "id": "YcOzwU90fDzq"
      }
    },
    {
      "cell_type": "markdown",
      "source": [
        "• Normalização Min-Max: redimensiona os valores de recursos para um\n",
        "intervalo entre 0 e 1 de acordo com a seguinte expressão:\n",
        "![download.png](data:image/png;base64,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)"
      ],
      "metadata": {
        "id": "R9IFcQhre6-D"
      }
    },
    {
      "cell_type": "code",
      "source": [
        "print(f\"Score da Regressão Linear com Padronização: {score_standard}\")\n",
        "print(f\"Score da Regressão Linear com Normalização: {score_minmax}\")"
      ],
      "metadata": {
        "colab": {
          "base_uri": "https://localhost:8080/"
        },
        "id": "u91twQ3AdBYp",
        "outputId": "c5082311-6861-4744-ff7c-da09a8fe6699"
      },
      "execution_count": 11,
      "outputs": [
        {
          "output_type": "stream",
          "name": "stdout",
          "text": [
            "Score da Regressão Linear com Padronização: 0.45260276297191926\n",
            "Score da Regressão Linear com Normalização: 0.4526027629719195\n"
          ]
        }
      ]
    }
  ]
}