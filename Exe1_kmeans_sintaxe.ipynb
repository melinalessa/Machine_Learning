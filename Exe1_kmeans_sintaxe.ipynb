{
  "nbformat": 4,
  "nbformat_minor": 0,
  "metadata": {
    "colab": {
      "provenance": [],
      "authorship_tag": "ABX9TyO9Jw+6eTGmmhDH96iUw//v",
      "include_colab_link": true
    },
    "kernelspec": {
      "name": "python3",
      "display_name": "Python 3"
    },
    "language_info": {
      "name": "python"
    }
  },
  "cells": [
    {
      "cell_type": "markdown",
      "metadata": {
        "id": "view-in-github",
        "colab_type": "text"
      },
      "source": [
        "<a href=\"https://colab.research.google.com/github/melinalessa/Machine_Learning/blob/main/Exe1_kmeans_sintaxe.ipynb\" target=\"_parent\"><img src=\"https://colab.research.google.com/assets/colab-badge.svg\" alt=\"Open In Colab\"/></a>"
      ]
    },
    {
      "cell_type": "markdown",
      "source": [
        "Utilizar o K-means para agrupar um conjunto de dados de dígitos\n",
        "escritos à mão (do conjunto de dados load_digits do sklearn) em\n",
        "clusters."
      ],
      "metadata": {
        "id": "2B2WkJfI4S06"
      }
    },
    {
      "cell_type": "code",
      "execution_count": 18,
      "metadata": {
        "id": "T8kfdvJ24Giw"
      },
      "outputs": [],
      "source": [
        "# import dataset, Kmeans e matplotlib\n",
        "from sklearn.datasets import load_digits\n",
        "from sklearn.cluster import KMeans\n",
        "from sklearn.metrics import silhouette_score, davies_bouldin_score\n",
        "import matplotlib.pyplot as plt"
      ]
    },
    {
      "cell_type": "code",
      "source": [
        "# Carregando o conjunto de dados de dígitos\n",
        "#X = dados de treinamento (features)\n",
        "digits = load_digits(as_frame = True)\n",
        "X = digits.data\n",
        "y = digits.target"
      ],
      "metadata": {
        "id": "BBEptVtL4_u3"
      },
      "execution_count": 19,
      "outputs": []
    },
    {
      "cell_type": "code",
      "source": [
        "# Aplicando K-means para agrupar os dígitos em 10 clusters (um para cada dígito)\n",
        "#Sintaxe: Kmeans (n_clusters = número de clusters, random_state = número de semente aleatória)\n",
        "kmeans = KMeans(n_clusters=10, random_state=42)"
      ],
      "metadata": {
        "id": "80GQDWdT55AQ"
      },
      "execution_count": 20,
      "outputs": []
    },
    {
      "cell_type": "code",
      "source": [
        "#Aplicar o algoritmo K-means dos dados X e armazenar os rótulos dos clusters para\n",
        "#Sintaxe: nome_clusters = nome_modelo.fit_predict(features)\n",
        "clusters = kmeans.fit_predict(X)\n",
        "clusters.shape"
      ],
      "metadata": {
        "colab": {
          "base_uri": "https://localhost:8080/"
        },
        "id": "Akqm7HxO7BT5",
        "outputId": "eb92112d-5dc6-41be-e7a4-5b543dbbf0f5"
      },
      "execution_count": 21,
      "outputs": [
        {
          "output_type": "stream",
          "name": "stderr",
          "text": [
            "/usr/local/lib/python3.10/dist-packages/sklearn/cluster/_kmeans.py:870: FutureWarning: The default value of `n_init` will change from 10 to 'auto' in 1.4. Set the value of `n_init` explicitly to suppress the warning\n",
            "  warnings.warn(\n"
          ]
        },
        {
          "output_type": "execute_result",
          "data": {
            "text/plain": [
              "(1797,)"
            ]
          },
          "metadata": {},
          "execution_count": 21
        }
      ]
    },
    {
      "cell_type": "code",
      "source": [
        "silhouette_score(X,clusters )"
      ],
      "metadata": {
        "colab": {
          "base_uri": "https://localhost:8080/"
        },
        "id": "Bv0OKjy1DWBr",
        "outputId": "79a63af0-246d-46c4-8f2b-528eedaab5da"
      },
      "execution_count": 22,
      "outputs": [
        {
          "output_type": "execute_result",
          "data": {
            "text/plain": [
              "0.18244258012780126"
            ]
          },
          "metadata": {},
          "execution_count": 22
        }
      ]
    },
    {
      "cell_type": "code",
      "source": [
        "print(davies_bouldin_score(X, KMeans(n_clusters=5, random_state=2).fit_predict(X)))\n",
        "print(davies_bouldin_score(X, KMeans(n_clusters=10, random_state=2).fit_predict(X)))"
      ],
      "metadata": {
        "colab": {
          "base_uri": "https://localhost:8080/"
        },
        "id": "0QvxopXFEVu0",
        "outputId": "7e51cb46-127a-411c-fc6d-823735a4006e"
      },
      "execution_count": 28,
      "outputs": [
        {
          "output_type": "stream",
          "name": "stderr",
          "text": [
            "/usr/local/lib/python3.10/dist-packages/sklearn/cluster/_kmeans.py:870: FutureWarning: The default value of `n_init` will change from 10 to 'auto' in 1.4. Set the value of `n_init` explicitly to suppress the warning\n",
            "  warnings.warn(\n"
          ]
        },
        {
          "output_type": "stream",
          "name": "stdout",
          "text": [
            "2.055899452748116\n"
          ]
        },
        {
          "output_type": "stream",
          "name": "stderr",
          "text": [
            "/usr/local/lib/python3.10/dist-packages/sklearn/cluster/_kmeans.py:870: FutureWarning: The default value of `n_init` will change from 10 to 'auto' in 1.4. Set the value of `n_init` explicitly to suppress the warning\n",
            "  warnings.warn(\n"
          ]
        },
        {
          "output_type": "stream",
          "name": "stdout",
          "text": [
            "1.9226438123310907\n"
          ]
        }
      ]
    },
    {
      "cell_type": "code",
      "source": [
        "#kmeans.cluster_center_[index].reshape()\n",
        "#kmeans.cluster_centers_[0].shape\n",
        "plt.imshow(kmeans.cluster_centers_[0].reshape(8,8), cmap='gray')"
      ],
      "metadata": {
        "colab": {
          "base_uri": "https://localhost:8080/",
          "height": 447
        },
        "id": "qmEOed9l7jdb",
        "outputId": "64bc82aa-0e03-4978-bcaf-3177e7ab75ce"
      },
      "execution_count": 29,
      "outputs": [
        {
          "output_type": "execute_result",
          "data": {
            "text/plain": [
              "<matplotlib.image.AxesImage at 0x7a6e04a5bac0>"
            ]
          },
          "metadata": {},
          "execution_count": 29
        },
        {
          "output_type": "display_data",
          "data": {
            "text/plain": [
              "<Figure size 640x480 with 1 Axes>"
            ],
            "image/png": "[encoded data removed]"
          },
          "metadata": {}
        }
      ]
    },
    {
      "cell_type": "code",
      "source": [
        "###Visualizando os centroides dos clusters (representando os dígitos)\n",
        "fig,ax= plt.subplots(2,5)\n",
        "centroide= kmeans.cluster_centers_.reshape(10,8,8)\n",
        "for axis, center in zip(ax.flat, centroide):\n",
        "    axis.set(yticks=[], xticks=[])\n",
        "    axis.imshow(center, cmap='gray')"
      ],
      "metadata": {
        "colab": {
          "base_uri": "https://localhost:8080/",
          "height": 324
        },
        "id": "_Nf-sYPh9WeG",
        "outputId": "af231c36-4453-481c-d5b9-bdb07600a9d2"
      },
      "execution_count": 30,
      "outputs": [
        {
          "output_type": "display_data",
          "data": {
            "text/plain": [
              "<Figure size 640x480 with 10 Axes>"
            ],
            "image/png": "[encoded data removed]"
          },
          "metadata": {}
        }
      ]
    }
  ]
}