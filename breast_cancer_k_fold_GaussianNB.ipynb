{
  "nbformat": 4,
  "nbformat_minor": 0,
  "metadata": {
    "colab": {
      "provenance": [],
      "authorship_tag": "ABX9TyMnsBL7hBVwhA1wy4263o3e",
      "include_colab_link": true
    },
    "kernelspec": {
      "name": "python3",
      "display_name": "Python 3"
    },
    "language_info": {
      "name": "python"
    }
  },
  "cells": [
    {
      "cell_type": "markdown",
      "metadata": {
        "id": "view-in-github",
        "colab_type": "text"
      },
      "source": [
        "<a href=\"https://colab.research.google.com/github/melinalessa/Machine_Learning/blob/main/breast_cancer_k_fold_GaussianNB.ipynb\" target=\"_parent\"><img src=\"https://colab.research.google.com/assets/colab-badge.svg\" alt=\"Open In Colab\"/></a>"
      ]
    },
    {
      "cell_type": "markdown",
      "source": [
        "Aplique a validação cruzada, através do k-fold, no dataset\n",
        "breast_cancer(). Em cada interação, calcule a acurácia. Ao final,\n",
        "calcule a média da acurácia de todos os folds.\n",
        "\n",
        "Tipo do Modelo: GaussianNB"
      ],
      "metadata": {
        "id": "9quNUfp1LOGe"
      }
    },
    {
      "cell_type": "code",
      "execution_count": 17,
      "metadata": {
        "id": "_xGXnIJcK-Jp"
      },
      "outputs": [],
      "source": [
        "from sklearn.datasets import load_breast_cancer\n",
        "from sklearn.model_selection import train_test_split, KFold\n",
        "from sklearn.naive_bayes import GaussianNB\n",
        "from sklearn.metrics import accuracy_score\n",
        "from sklearn.metrics import precision_score #precision"
      ]
    },
    {
      "cell_type": "code",
      "source": [
        "# Carregando o dataset de câncer de mama\n",
        "data = load_breast_cancer()\n",
        "X, y = data.data, data.target"
      ],
      "metadata": {
        "id": "20QI1FMaLhNL"
      },
      "execution_count": 18,
      "outputs": []
    },
    {
      "cell_type": "code",
      "source": [
        "# Dividindo os dados em conjuntos de treino e teste (80% treino, 20% teste)\n",
        "X_train, X_test, y_train, y_test = train_test_split(X, y, test_size=0.2, random_state=42)"
      ],
      "metadata": {
        "id": "nlmV6X3OLmI3"
      },
      "execution_count": 19,
      "outputs": []
    },
    {
      "cell_type": "code",
      "source": [
        "# Inicializando o modelo de Naive Bayes Gaussiano\n",
        "model = GaussianNB()"
      ],
      "metadata": {
        "id": "U8sza6wRLnD4"
      },
      "execution_count": 20,
      "outputs": []
    },
    {
      "cell_type": "code",
      "source": [
        "# Definindo o número de folds (k)\n",
        "k = 5\n",
        "\n",
        "# Inicializando o objeto KFold no conjunto de treino\n",
        "kf = KFold(n_splits=k)"
      ],
      "metadata": {
        "id": "ffl-AcU7L0sJ"
      },
      "execution_count": 21,
      "outputs": []
    },
    {
      "cell_type": "code",
      "source": [
        "# Lista para armazenar as acurácias de cada fold\n",
        "accuracies = []"
      ],
      "metadata": {
        "id": "TnhEn-rIL3_C"
      },
      "execution_count": 22,
      "outputs": []
    },
    {
      "cell_type": "code",
      "source": [
        "# Iterando sobre os folds no conjunto de treino\n",
        "for train_index, val_index in kf.split(X_train):\n",
        "    X_train_fold, X_val = X_train[train_index], X_train[val_index]\n",
        "    y_train_fold, y_val = y_train[train_index], y_train[val_index]\n",
        "    # Treinando o modelo com o fold atual\n",
        "    model.fit(X_train_fold, y_train_fold)\n",
        "\n",
        "    # Prevendo os rótulos para os dados de validação (fold)\n",
        "    y_pred = model.predict(X_val)\n",
        "\n",
        "    # Calculando a acurácia e armazenando\n",
        "    acc = accuracy_score(y_val, y_pred)\n",
        "    #incluir na lista\n",
        "    accuracies.append(acc)"
      ],
      "metadata": {
        "id": "4NTeHeIXMUo2"
      },
      "execution_count": 23,
      "outputs": []
    },
    {
      "cell_type": "code",
      "source": [
        "print('Acurácia: %f' % acc)"
      ],
      "metadata": {
        "colab": {
          "base_uri": "https://localhost:8080/"
        },
        "id": "9_IHpPeOOx8C",
        "outputId": "ed8f51e0-357b-4142-b1f6-bec3bdd3fa46"
      },
      "execution_count": 24,
      "outputs": [
        {
          "output_type": "stream",
          "name": "stdout",
          "text": [
            "Acurácia: 0.923077\n"
          ]
        }
      ]
    },
    {
      "cell_type": "code",
      "source": [
        "# Calculando a média das acurácias obtidas na validação cruzada K-fold\n",
        "mean_accuracy = sum(accuracies) / len(accuracies)\n",
        "print(f\"Acurácias de cada fold: {accuracies}\")\n",
        "print(f\"Média das acurácias: {mean_accuracy}\")"
      ],
      "metadata": {
        "colab": {
          "base_uri": "https://localhost:8080/"
        },
        "id": "E-aYWEQ8OgYe",
        "outputId": "e10eeecf-4cf6-4c01-eb31-3fe0976af367"
      },
      "execution_count": 25,
      "outputs": [
        {
          "output_type": "stream",
          "name": "stdout",
          "text": [
            "Acurácias de cada fold: [0.9230769230769231, 0.945054945054945, 0.945054945054945, 0.9340659340659341, 0.9230769230769231]\n",
            "Média das acurácias: 0.9340659340659341\n"
          ]
        }
      ]
    },
    {
      "cell_type": "code",
      "source": [
        "# Avaliando no conjunto de teste separado\n",
        "y_pred_test = model.predict(X_test)\n",
        "accuracy_test = accuracy_score(y_test, y_pred_test)\n",
        "print(f\"Acurácia no conjunto de teste: {accuracy_test}\")"
      ],
      "metadata": {
        "colab": {
          "base_uri": "https://localhost:8080/"
        },
        "id": "RcZYXoaxOm8q",
        "outputId": "ff0005b1-ab51-4a62-d7de-cc17b84f7dc9"
      },
      "execution_count": 26,
      "outputs": [
        {
          "output_type": "stream",
          "name": "stdout",
          "text": [
            "Acurácia no conjunto de teste: 0.9649122807017544\n"
          ]
        }
      ]
    }
  ]
}