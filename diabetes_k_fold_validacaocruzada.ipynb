{
  "nbformat": 4,
  "nbformat_minor": 0,
  "metadata": {
    "colab": {
      "provenance": [],
      "authorship_tag": "ABX9TyN/T/OhWv6R3zmYs1sbObOP",
      "include_colab_link": true
    },
    "kernelspec": {
      "name": "python3",
      "display_name": "Python 3"
    },
    "language_info": {
      "name": "python"
    }
  },
  "cells": [
    {
      "cell_type": "markdown",
      "metadata": {
        "id": "view-in-github",
        "colab_type": "text"
      },
      "source": [
        "<a href=\"https://colab.research.google.com/github/melinalessa/Machine_Learning/blob/main/diabetes_k_fold_validacaocruzada.ipynb\" target=\"_parent\"><img src=\"https://colab.research.google.com/assets/colab-badge.svg\" alt=\"Open In Colab\"/></a>"
      ]
    },
    {
      "cell_type": "markdown",
      "source": [
        "Aplique a validação cruzada, através do k-fold, no dataset\n",
        "load_diabetes(). Em cada interação, calcule o erro quadrático\n",
        "médio (MSE). Ao final, calcule a média do MSE de todos os folds.\n",
        "\n",
        "Tipo do Modelo: Regressão Linear"
      ],
      "metadata": {
        "id": "sclqf0pFFJdj"
      }
    },
    {
      "cell_type": "code",
      "execution_count": 1,
      "metadata": {
        "id": "xDrZiLQ-Elwd"
      },
      "outputs": [],
      "source": [
        "from sklearn.datasets import load_diabetes\n",
        "from sklearn.model_selection import train_test_split, KFold\n",
        "from sklearn.linear_model import LinearRegression\n",
        "from sklearn.metrics import mean_squared_error\n",
        "import numpy as np"
      ]
    },
    {
      "cell_type": "code",
      "source": [
        "# Carregando o dataset de diabetes\n",
        "data = load_diabetes()\n",
        "X, y = data.data, data.target\n",
        "\n",
        "X_train, X_test, y_train, y_test = train_test_split(X, y, test_size=0.2, random_state=42)"
      ],
      "metadata": {
        "id": "6KFGWjNbFxwW"
      },
      "execution_count": 2,
      "outputs": []
    },
    {
      "cell_type": "code",
      "source": [
        "# Inicializando o modelo de Regressão Linear\n",
        "model = LinearRegression()"
      ],
      "metadata": {
        "id": "NtACcDUXF1vX"
      },
      "execution_count": 3,
      "outputs": []
    },
    {
      "cell_type": "code",
      "source": [
        "# Definindo o número de folds (k)\n",
        "k = 5"
      ],
      "metadata": {
        "id": "g2tOzW_nF7OX"
      },
      "execution_count": 4,
      "outputs": []
    },
    {
      "cell_type": "code",
      "source": [
        "# Inicializando o objeto KFold - informar o numero de separacoes\n",
        "kf = KFold(n_splits=k)"
      ],
      "metadata": {
        "id": "HMKTt8_oF_GS"
      },
      "execution_count": 7,
      "outputs": []
    },
    {
      "cell_type": "code",
      "source": [
        "# Lista para armazenar os erros quadráticos médios (MSE) de cada fold\n",
        "mse_scores = []"
      ],
      "metadata": {
        "id": "HVRzigMFGq9v"
      },
      "execution_count": 6,
      "outputs": []
    },
    {
      "cell_type": "code",
      "source": [
        "# Iterando sobre os folds\n",
        "for train_index, test_index in kf.split(X_train):\n",
        "    X_train, X_test = X[train_index], X[test_index]\n",
        "    y_train, y_test = y[train_index], y[test_index]\n",
        "\n",
        "    # Treinando o modelo\n",
        "    model.fit(X_train, y_train)\n",
        "\n",
        "    # Prevendo os valores para os dados de teste\n",
        "    y_pred = model.predict(X_test)\n",
        "\n",
        "    # Calculando o erro quadrático médio (MSE)\n",
        "    mse = mean_squared_error(y_test, y_pred)\n",
        "    mse_scores.append(mse)"
      ],
      "metadata": {
        "id": "JfM622kOG4az"
      },
      "execution_count": 16,
      "outputs": []
    },
    {
      "cell_type": "code",
      "source": [
        "# Calculando a média dos erros quadráticos médios obtidos na validação cruzada K-fold\n",
        "mean_mse = np.mean(mse_scores)\n",
        "print(f\"Erros quadráticos médios (MSE) de cada fold: {mse_scores}\")\n",
        "print(f\"Média dos erros quadráticos médios (MSE): {mean_mse}\")"
      ],
      "metadata": {
        "colab": {
          "base_uri": "https://localhost:8080/"
        },
        "id": "OyC0mBGmHSys",
        "outputId": "206414dc-d5d8-4421-daec-1d5f649fa643"
      },
      "execution_count": 17,
      "outputs": [
        {
          "output_type": "stream",
          "name": "stdout",
          "text": [
            "Erros quadráticos médios (MSE) de cada fold: [2881.053326161927, 2930.2519162489552, 3311.976812941708, 2790.678377487762, 3232.2883432779804, 3152.3943617461255, 2648.7849324652984, 2834.9567070402873, 3569.5350513070393, 3005.1714893212984, 3569.7192652365943]\n",
            "Média dos erros quadráticos médios (MSE): 3084.2555075668165\n"
          ]
        }
      ]
    },
    {
      "cell_type": "code",
      "source": [
        "y_pred_train = model.predict(X_train)"
      ],
      "metadata": {
        "id": "IUBsJg6LHSoX"
      },
      "execution_count": 18,
      "outputs": []
    },
    {
      "cell_type": "code",
      "source": [
        "mean_squared_error(y_train, y_pred_train)"
      ],
      "metadata": {
        "colab": {
          "base_uri": "https://localhost:8080/"
        },
        "id": "mdDYGgTvHSaq",
        "outputId": "555155ea-168b-462a-e4e3-bfdd5998cdaa"
      },
      "execution_count": 19,
      "outputs": [
        {
          "output_type": "execute_result",
          "data": {
            "text/plain": [
              "2680.9747016111373"
            ]
          },
          "metadata": {},
          "execution_count": 19
        }
      ]
    }
  ]
}