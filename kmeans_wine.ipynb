{
  "cells": [
    {
      "cell_type": "markdown",
      "metadata": {
        "id": "view-in-github",
        "colab_type": "text"
      },
      "source": [
        "<a href=\"https://colab.research.google.com/github/melinalessa/Machine_Learning/blob/main/kmeans_wine.ipynb\" target=\"_parent\"><img src=\"https://colab.research.google.com/assets/colab-badge.svg\" alt=\"Open In Colab\"/></a>"
      ]
    },
    {
      "cell_type": "markdown",
      "source": [
        "Aplique o método o cotovelo no algoritmo kmeans e determine o\n",
        "número de clusters (k) ideal através da visualização no gráfico.\n",
        "\n",
        "- fazer o supervisionado de agrupamnetos"
      ],
      "metadata": {
        "id": "6LTaaGtqMKQB"
      },
      "id": "6LTaaGtqMKQB"
    },
    {
      "cell_type": "code",
      "execution_count": 1,
      "id": "109f5827",
      "metadata": {
        "id": "109f5827"
      },
      "outputs": [],
      "source": [
        "from sklearn.datasets import load_wine\n",
        "from sklearn.cluster import KMeans\n",
        "import matplotlib.pyplot as plt"
      ]
    },
    {
      "cell_type": "code",
      "execution_count": 2,
      "id": "d4b2f3d8",
      "metadata": {
        "id": "d4b2f3d8"
      },
      "outputs": [],
      "source": [
        "# Carregando o conjunto de dados Wine (nao-supervisionado)\n",
        "wine = load_wine(as_frame = True)\n",
        "X = wine.data  # As características estão armazenadas em X"
      ]
    },
    {
      "cell_type": "code",
      "source": [
        "wine"
      ],
      "metadata": {
        "colab": {
          "base_uri": "https://localhost:8080/"
        },
        "id": "5IHkq2nLQzhN",
        "outputId": "5cb23a15-32a9-48e0-cb3d-024780ba5caa"
      },
      "id": "5IHkq2nLQzhN",
      "execution_count": 10,
      "outputs": [
        {
          "output_type": "execute_result",
          "data": {
            "text/plain": [
              "{'data':      alcohol  malic_acid   ash  alcalinity_of_ash  magnesium  total_phenols  \\\n",
              " 0      14.23        1.71  2.43               15.6      127.0           2.80   \n",
              " 1      13.20        1.78  2.14               11.2      100.0           2.65   \n",
              " 2      13.16        2.36  2.67               18.6      101.0           2.80   \n",
              " 3      14.37        1.95  2.50               16.8      113.0           3.85   \n",
              " 4      13.24        2.59  2.87               21.0      118.0           2.80   \n",
              " ..       ...         ...   ...                ...        ...            ...   \n",
              " 173    13.71        5.65  2.45               20.5       95.0           1.68   \n",
              " 174    13.40        3.91  2.48               23.0      102.0           1.80   \n",
              " 175    13.27        4.28  2.26               20.0      120.0           1.59   \n",
              " 176    13.17        2.59  2.37               20.0      120.0           1.65   \n",
              " 177    14.13        4.10  2.74               24.5       96.0           2.05   \n",
              " \n",
              "      flavanoids  nonflavanoid_phenols  proanthocyanins  color_intensity   hue  \\\n",
              " 0          3.06                  0.28             2.29             5.64  1.04   \n",
              " 1          2.76                  0.26             1.28             4.38  1.05   \n",
              " 2          3.24                  0.30             2.81             5.68  1.03   \n",
              " 3          3.49                  0.24             2.18             7.80  0.86   \n",
              " 4          2.69                  0.39             1.82             4.32  1.04   \n",
              " ..          ...                   ...              ...              ...   ...   \n",
              " 173        0.61                  0.52             1.06             7.70  0.64   \n",
              " 174        0.75                  0.43             1.41             7.30  0.70   \n",
              " 175        0.69                  0.43             1.35            10.20  0.59   \n",
              " 176        0.68                  0.53             1.46             9.30  0.60   \n",
              " 177        0.76                  0.56             1.35             9.20  0.61   \n",
              " \n",
              "      od280/od315_of_diluted_wines  proline  \n",
              " 0                            3.92   1065.0  \n",
              " 1                            3.40   1050.0  \n",
              " 2                            3.17   1185.0  \n",
              " 3                            3.45   1480.0  \n",
              " 4                            2.93    735.0  \n",
              " ..                            ...      ...  \n",
              " 173                          1.74    740.0  \n",
              " 174                          1.56    750.0  \n",
              " 175                          1.56    835.0  \n",
              " 176                          1.62    840.0  \n",
              " 177                          1.60    560.0  \n",
              " \n",
              " [178 rows x 13 columns],\n",
              " 'target': 0      0\n",
              " 1      0\n",
              " 2      0\n",
              " 3      0\n",
              " 4      0\n",
              "       ..\n",
              " 173    2\n",
              " 174    2\n",
              " 175    2\n",
              " 176    2\n",
              " 177    2\n",
              " Name: target, Length: 178, dtype: int64,\n",
              " 'frame':      alcohol  malic_acid   ash  alcalinity_of_ash  magnesium  total_phenols  \\\n",
              " 0      14.23        1.71  2.43               15.6      127.0           2.80   \n",
              " 1      13.20        1.78  2.14               11.2      100.0           2.65   \n",
              " 2      13.16        2.36  2.67               18.6      101.0           2.80   \n",
              " 3      14.37        1.95  2.50               16.8      113.0           3.85   \n",
              " 4      13.24        2.59  2.87               21.0      118.0           2.80   \n",
              " ..       ...         ...   ...                ...        ...            ...   \n",
              " 173    13.71        5.65  2.45               20.5       95.0           1.68   \n",
              " 174    13.40        3.91  2.48               23.0      102.0           1.80   \n",
              " 175    13.27        4.28  2.26               20.0      120.0           1.59   \n",
              " 176    13.17        2.59  2.37               20.0      120.0           1.65   \n",
              " 177    14.13        4.10  2.74               24.5       96.0           2.05   \n",
              " \n",
              "      flavanoids  nonflavanoid_phenols  proanthocyanins  color_intensity   hue  \\\n",
              " 0          3.06                  0.28             2.29             5.64  1.04   \n",
              " 1          2.76                  0.26             1.28             4.38  1.05   \n",
              " 2          3.24                  0.30             2.81             5.68  1.03   \n",
              " 3          3.49                  0.24             2.18             7.80  0.86   \n",
              " 4          2.69                  0.39             1.82             4.32  1.04   \n",
              " ..          ...                   ...              ...              ...   ...   \n",
              " 173        0.61                  0.52             1.06             7.70  0.64   \n",
              " 174        0.75                  0.43             1.41             7.30  0.70   \n",
              " 175        0.69                  0.43             1.35            10.20  0.59   \n",
              " 176        0.68                  0.53             1.46             9.30  0.60   \n",
              " 177        0.76                  0.56             1.35             9.20  0.61   \n",
              " \n",
              "      od280/od315_of_diluted_wines  proline  target  \n",
              " 0                            3.92   1065.0       0  \n",
              " 1                            3.40   1050.0       0  \n",
              " 2                            3.17   1185.0       0  \n",
              " 3                            3.45   1480.0       0  \n",
              " 4                            2.93    735.0       0  \n",
              " ..                            ...      ...     ...  \n",
              " 173                          1.74    740.0       2  \n",
              " 174                          1.56    750.0       2  \n",
              " 175                          1.56    835.0       2  \n",
              " 176                          1.62    840.0       2  \n",
              " 177                          1.60    560.0       2  \n",
              " \n",
              " [178 rows x 14 columns],\n",
              " 'target_names': array(['class_0', 'class_1', 'class_2'], dtype='<U7'),\n",
              " 'DESCR': '.. _wine_dataset:\\n\\nWine recognition dataset\\n------------------------\\n\\n**Data Set Characteristics:**\\n\\n    :Number of Instances: 178\\n    :Number of Attributes: 13 numeric, predictive attributes and the class\\n    :Attribute Information:\\n \\t\\t- Alcohol\\n \\t\\t- Malic acid\\n \\t\\t- Ash\\n\\t\\t- Alcalinity of ash  \\n \\t\\t- Magnesium\\n\\t\\t- Total phenols\\n \\t\\t- Flavanoids\\n \\t\\t- Nonflavanoid phenols\\n \\t\\t- Proanthocyanins\\n\\t\\t- Color intensity\\n \\t\\t- Hue\\n \\t\\t- OD280/OD315 of diluted wines\\n \\t\\t- Proline\\n\\n    - class:\\n            - class_0\\n            - class_1\\n            - class_2\\n\\t\\t\\n    :Summary Statistics:\\n    \\n    ============================= ==== ===== ======= =====\\n                                   Min   Max   Mean     SD\\n    ============================= ==== ===== ======= =====\\n    Alcohol:                      11.0  14.8    13.0   0.8\\n    Malic Acid:                   0.74  5.80    2.34  1.12\\n    Ash:                          1.36  3.23    2.36  0.27\\n    Alcalinity of Ash:            10.6  30.0    19.5   3.3\\n    Magnesium:                    70.0 162.0    99.7  14.3\\n    Total Phenols:                0.98  3.88    2.29  0.63\\n    Flavanoids:                   0.34  5.08    2.03  1.00\\n    Nonflavanoid Phenols:         0.13  0.66    0.36  0.12\\n    Proanthocyanins:              0.41  3.58    1.59  0.57\\n    Colour Intensity:              1.3  13.0     5.1   2.3\\n    Hue:                          0.48  1.71    0.96  0.23\\n    OD280/OD315 of diluted wines: 1.27  4.00    2.61  0.71\\n    Proline:                       278  1680     746   315\\n    ============================= ==== ===== ======= =====\\n\\n    :Missing Attribute Values: None\\n    :Class Distribution: class_0 (59), class_1 (71), class_2 (48)\\n    :Creator: R.A. Fisher\\n    :Donor: Michael Marshall (MARSHALL%PLU@io.arc.nasa.gov)\\n    :Date: July, 1988\\n\\nThis is a copy of UCI ML Wine recognition datasets.\\nhttps://archive.ics.uci.edu/ml/machine-learning-databases/wine/wine.data\\n\\nThe data is the results of a chemical analysis of wines grown in the same\\nregion in Italy by three different cultivators. There are thirteen different\\nmeasurements taken for different constituents found in the three types of\\nwine.\\n\\nOriginal Owners: \\n\\nForina, M. et al, PARVUS - \\nAn Extendible Package for Data Exploration, Classification and Correlation. \\nInstitute of Pharmaceutical and Food Analysis and Technologies,\\nVia Brigata Salerno, 16147 Genoa, Italy.\\n\\nCitation:\\n\\nLichman, M. (2013). UCI Machine Learning Repository\\n[https://archive.ics.uci.edu/ml]. Irvine, CA: University of California,\\nSchool of Information and Computer Science. \\n\\n.. topic:: References\\n\\n  (1) S. Aeberhard, D. Coomans and O. de Vel, \\n  Comparison of Classifiers in High Dimensional Settings, \\n  Tech. Rep. no. 92-02, (1992), Dept. of Computer Science and Dept. of  \\n  Mathematics and Statistics, James Cook University of North Queensland. \\n  (Also submitted to Technometrics). \\n\\n  The data was used with many others for comparing various \\n  classifiers. The classes are separable, though only RDA \\n  has achieved 100% correct classification. \\n  (RDA : 100%, QDA 99.4%, LDA 98.9%, 1NN 96.1% (z-transformed data)) \\n  (All results using the leave-one-out technique) \\n\\n  (2) S. Aeberhard, D. Coomans and O. de Vel, \\n  \"THE CLASSIFICATION PERFORMANCE OF RDA\" \\n  Tech. Rep. no. 92-01, (1992), Dept. of Computer Science and Dept. of \\n  Mathematics and Statistics, James Cook University of North Queensland. \\n  (Also submitted to Journal of Chemometrics).\\n',\n",
              " 'feature_names': ['alcohol',\n",
              "  'malic_acid',\n",
              "  'ash',\n",
              "  'alcalinity_of_ash',\n",
              "  'magnesium',\n",
              "  'total_phenols',\n",
              "  'flavanoids',\n",
              "  'nonflavanoid_phenols',\n",
              "  'proanthocyanins',\n",
              "  'color_intensity',\n",
              "  'hue',\n",
              "  'od280/od315_of_diluted_wines',\n",
              "  'proline']}"
            ]
          },
          "metadata": {},
          "execution_count": 10
        }
      ]
    },
    {
      "cell_type": "code",
      "execution_count": 4,
      "id": "a900d7ff",
      "metadata": {
        "colab": {
          "base_uri": "https://localhost:8080/"
        },
        "id": "a900d7ff",
        "outputId": "7b7258e1-64b0-493b-f63c-28c717c00dab"
      },
      "outputs": [
        {
          "output_type": "stream",
          "name": "stderr",
          "text": [
            "/usr/local/lib/python3.10/dist-packages/sklearn/cluster/_kmeans.py:870: FutureWarning: The default value of `n_init` will change from 10 to 'auto' in 1.4. Set the value of `n_init` explicitly to suppress the warning\n",
            "  warnings.warn(\n",
            "/usr/local/lib/python3.10/dist-packages/sklearn/cluster/_kmeans.py:870: FutureWarning: The default value of `n_init` will change from 10 to 'auto' in 1.4. Set the value of `n_init` explicitly to suppress the warning\n",
            "  warnings.warn(\n",
            "/usr/local/lib/python3.10/dist-packages/sklearn/cluster/_kmeans.py:870: FutureWarning: The default value of `n_init` will change from 10 to 'auto' in 1.4. Set the value of `n_init` explicitly to suppress the warning\n",
            "  warnings.warn(\n",
            "/usr/local/lib/python3.10/dist-packages/sklearn/cluster/_kmeans.py:870: FutureWarning: The default value of `n_init` will change from 10 to 'auto' in 1.4. Set the value of `n_init` explicitly to suppress the warning\n",
            "  warnings.warn(\n",
            "/usr/local/lib/python3.10/dist-packages/sklearn/cluster/_kmeans.py:870: FutureWarning: The default value of `n_init` will change from 10 to 'auto' in 1.4. Set the value of `n_init` explicitly to suppress the warning\n",
            "  warnings.warn(\n",
            "/usr/local/lib/python3.10/dist-packages/sklearn/cluster/_kmeans.py:870: FutureWarning: The default value of `n_init` will change from 10 to 'auto' in 1.4. Set the value of `n_init` explicitly to suppress the warning\n",
            "  warnings.warn(\n",
            "/usr/local/lib/python3.10/dist-packages/sklearn/cluster/_kmeans.py:870: FutureWarning: The default value of `n_init` will change from 10 to 'auto' in 1.4. Set the value of `n_init` explicitly to suppress the warning\n",
            "  warnings.warn(\n",
            "/usr/local/lib/python3.10/dist-packages/sklearn/cluster/_kmeans.py:870: FutureWarning: The default value of `n_init` will change from 10 to 'auto' in 1.4. Set the value of `n_init` explicitly to suppress the warning\n",
            "  warnings.warn(\n",
            "/usr/local/lib/python3.10/dist-packages/sklearn/cluster/_kmeans.py:870: FutureWarning: The default value of `n_init` will change from 10 to 'auto' in 1.4. Set the value of `n_init` explicitly to suppress the warning\n",
            "  warnings.warn(\n",
            "/usr/local/lib/python3.10/dist-packages/sklearn/cluster/_kmeans.py:870: FutureWarning: The default value of `n_init` will change from 10 to 'auto' in 1.4. Set the value of `n_init` explicitly to suppress the warning\n",
            "  warnings.warn(\n"
          ]
        }
      ],
      "source": [
        "# Método Cotovelo\n",
        "inercia= []\n",
        "for k in range(1,11):\n",
        "  kmeans= KMeans(n_clusters = k, random_state=42)\n",
        "  kmeans.fit(X)\n",
        "  inercia.append(kmeans.inertia_)"
      ]
    },
    {
      "cell_type": "code",
      "source": [
        "from matplotlib import markers\n",
        "plt.figure(figsize=(22,3))\n",
        "plt.plot(range(1,11), inercia, marker='*')\n",
        "plt.title('Método do Cotovelo')\n",
        "plt.xlabel('Número de clusters')\n",
        "plt.ylabel('Inércia')\n",
        "plt.show()"
      ],
      "metadata": {
        "colab": {
          "base_uri": "https://localhost:8080/",
          "height": 237
        },
        "id": "iGO_1gRRNuUu",
        "outputId": "39238365-3513-4476-bf4e-a7afb217f795"
      },
      "id": "iGO_1gRRNuUu",
      "execution_count": 9,
      "outputs": [
        {
          "output_type": "display_data",
          "data": {
            "text/plain": [
              "<Figure size 2200x300 with 1 Axes>"
            ],
            "image/png": "[encoded data removed]"
          },
          "metadata": {}
        }
      ]
    },
    {
      "cell_type": "markdown",
      "source": [
        "Neste caso o número de clusters idela seria 3"
      ],
      "metadata": {
        "id": "gH2LBlr8PFRt"
      },
      "id": "gH2LBlr8PFRt"
    }
  ],
  "metadata": {
    "kernelspec": {
      "display_name": "Python 3 (ipykernel)",
      "language": "python",
      "name": "python3"
    },
    "language_info": {
      "codemirror_mode": {
        "name": "ipython",
        "version": 3
      },
      "file_extension": ".py",
      "mimetype": "text/x-python",
      "name": "python",
      "nbconvert_exporter": "python",
      "pygments_lexer": "ipython3",
      "version": "3.11.4"
    },
    "colab": {
      "provenance": [],
      "include_colab_link": true
    }
  },
  "nbformat": 4,
  "nbformat_minor": 5
}